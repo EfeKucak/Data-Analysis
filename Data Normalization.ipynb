{
 "cells": [
  {
   "cell_type": "code",
   "execution_count": 2,
   "id": "3f8d1097-ed22-4c34-aed8-ff973e58cd9b",
   "metadata": {},
   "outputs": [],
   "source": [
    "import pandas as pd\n",
    "import matplotlib.pyplot as plt"
   ]
  },
  {
   "cell_type": "code",
   "execution_count": 3,
   "id": "81863ae4-32a9-498c-b6ec-eaa44b1ee5fe",
   "metadata": {},
   "outputs": [
    {
     "data": {
      "text/html": [
       "<div>\n",
       "<style scoped>\n",
       "    .dataframe tbody tr th:only-of-type {\n",
       "        vertical-align: middle;\n",
       "    }\n",
       "\n",
       "    .dataframe tbody tr th {\n",
       "        vertical-align: top;\n",
       "    }\n",
       "\n",
       "    .dataframe thead th {\n",
       "        text-align: right;\n",
       "    }\n",
       "</style>\n",
       "<table border=\"1\" class=\"dataframe\">\n",
       "  <thead>\n",
       "    <tr style=\"text-align: right;\">\n",
       "      <th></th>\n",
       "      <th>ResponseId</th>\n",
       "      <th>MainBranch</th>\n",
       "      <th>Age</th>\n",
       "      <th>Employment</th>\n",
       "      <th>RemoteWork</th>\n",
       "      <th>Check</th>\n",
       "      <th>CodingActivities</th>\n",
       "      <th>EdLevel</th>\n",
       "      <th>LearnCode</th>\n",
       "      <th>LearnCodeOnline</th>\n",
       "      <th>...</th>\n",
       "      <th>JobSatPoints_6</th>\n",
       "      <th>JobSatPoints_7</th>\n",
       "      <th>JobSatPoints_8</th>\n",
       "      <th>JobSatPoints_9</th>\n",
       "      <th>JobSatPoints_10</th>\n",
       "      <th>JobSatPoints_11</th>\n",
       "      <th>SurveyLength</th>\n",
       "      <th>SurveyEase</th>\n",
       "      <th>ConvertedCompYearly</th>\n",
       "      <th>JobSat</th>\n",
       "    </tr>\n",
       "  </thead>\n",
       "  <tbody>\n",
       "    <tr>\n",
       "      <th>0</th>\n",
       "      <td>1</td>\n",
       "      <td>I am a developer by profession</td>\n",
       "      <td>Under 18 years old</td>\n",
       "      <td>Employed, full-time</td>\n",
       "      <td>Remote</td>\n",
       "      <td>Apples</td>\n",
       "      <td>Hobby</td>\n",
       "      <td>Primary/elementary school</td>\n",
       "      <td>Books / Physical media</td>\n",
       "      <td>NaN</td>\n",
       "      <td>...</td>\n",
       "      <td>NaN</td>\n",
       "      <td>NaN</td>\n",
       "      <td>NaN</td>\n",
       "      <td>NaN</td>\n",
       "      <td>NaN</td>\n",
       "      <td>NaN</td>\n",
       "      <td>NaN</td>\n",
       "      <td>NaN</td>\n",
       "      <td>NaN</td>\n",
       "      <td>NaN</td>\n",
       "    </tr>\n",
       "    <tr>\n",
       "      <th>1</th>\n",
       "      <td>2</td>\n",
       "      <td>I am a developer by profession</td>\n",
       "      <td>35-44 years old</td>\n",
       "      <td>Employed, full-time</td>\n",
       "      <td>Remote</td>\n",
       "      <td>Apples</td>\n",
       "      <td>Hobby;Contribute to open-source projects;Other...</td>\n",
       "      <td>Bachelor’s degree (B.A., B.S., B.Eng., etc.)</td>\n",
       "      <td>Books / Physical media;Colleague;On the job tr...</td>\n",
       "      <td>Technical documentation;Blogs;Books;Written Tu...</td>\n",
       "      <td>...</td>\n",
       "      <td>0.0</td>\n",
       "      <td>0.0</td>\n",
       "      <td>0.0</td>\n",
       "      <td>0.0</td>\n",
       "      <td>0.0</td>\n",
       "      <td>0.0</td>\n",
       "      <td>NaN</td>\n",
       "      <td>NaN</td>\n",
       "      <td>NaN</td>\n",
       "      <td>NaN</td>\n",
       "    </tr>\n",
       "    <tr>\n",
       "      <th>2</th>\n",
       "      <td>3</td>\n",
       "      <td>I am a developer by profession</td>\n",
       "      <td>45-54 years old</td>\n",
       "      <td>Employed, full-time</td>\n",
       "      <td>Remote</td>\n",
       "      <td>Apples</td>\n",
       "      <td>Hobby;Contribute to open-source projects;Other...</td>\n",
       "      <td>Master’s degree (M.A., M.S., M.Eng., MBA, etc.)</td>\n",
       "      <td>Books / Physical media;Colleague;On the job tr...</td>\n",
       "      <td>Technical documentation;Blogs;Books;Written Tu...</td>\n",
       "      <td>...</td>\n",
       "      <td>NaN</td>\n",
       "      <td>NaN</td>\n",
       "      <td>NaN</td>\n",
       "      <td>NaN</td>\n",
       "      <td>NaN</td>\n",
       "      <td>NaN</td>\n",
       "      <td>Appropriate in length</td>\n",
       "      <td>Easy</td>\n",
       "      <td>NaN</td>\n",
       "      <td>NaN</td>\n",
       "    </tr>\n",
       "    <tr>\n",
       "      <th>3</th>\n",
       "      <td>4</td>\n",
       "      <td>I am learning to code</td>\n",
       "      <td>18-24 years old</td>\n",
       "      <td>Student, full-time</td>\n",
       "      <td>NaN</td>\n",
       "      <td>Apples</td>\n",
       "      <td>NaN</td>\n",
       "      <td>Some college/university study without earning ...</td>\n",
       "      <td>Other online resources (e.g., videos, blogs, f...</td>\n",
       "      <td>Stack Overflow;How-to videos;Interactive tutorial</td>\n",
       "      <td>...</td>\n",
       "      <td>NaN</td>\n",
       "      <td>NaN</td>\n",
       "      <td>NaN</td>\n",
       "      <td>NaN</td>\n",
       "      <td>NaN</td>\n",
       "      <td>NaN</td>\n",
       "      <td>Too long</td>\n",
       "      <td>Easy</td>\n",
       "      <td>NaN</td>\n",
       "      <td>NaN</td>\n",
       "    </tr>\n",
       "    <tr>\n",
       "      <th>4</th>\n",
       "      <td>5</td>\n",
       "      <td>I am a developer by profession</td>\n",
       "      <td>18-24 years old</td>\n",
       "      <td>Student, full-time</td>\n",
       "      <td>NaN</td>\n",
       "      <td>Apples</td>\n",
       "      <td>NaN</td>\n",
       "      <td>Secondary school (e.g. American high school, G...</td>\n",
       "      <td>Other online resources (e.g., videos, blogs, f...</td>\n",
       "      <td>Technical documentation;Blogs;Written Tutorial...</td>\n",
       "      <td>...</td>\n",
       "      <td>NaN</td>\n",
       "      <td>NaN</td>\n",
       "      <td>NaN</td>\n",
       "      <td>NaN</td>\n",
       "      <td>NaN</td>\n",
       "      <td>NaN</td>\n",
       "      <td>Too short</td>\n",
       "      <td>Easy</td>\n",
       "      <td>NaN</td>\n",
       "      <td>NaN</td>\n",
       "    </tr>\n",
       "  </tbody>\n",
       "</table>\n",
       "<p>5 rows × 114 columns</p>\n",
       "</div>"
      ],
      "text/plain": [
       "   ResponseId                      MainBranch                 Age  \\\n",
       "0           1  I am a developer by profession  Under 18 years old   \n",
       "1           2  I am a developer by profession     35-44 years old   \n",
       "2           3  I am a developer by profession     45-54 years old   \n",
       "3           4           I am learning to code     18-24 years old   \n",
       "4           5  I am a developer by profession     18-24 years old   \n",
       "\n",
       "            Employment RemoteWork   Check  \\\n",
       "0  Employed, full-time     Remote  Apples   \n",
       "1  Employed, full-time     Remote  Apples   \n",
       "2  Employed, full-time     Remote  Apples   \n",
       "3   Student, full-time        NaN  Apples   \n",
       "4   Student, full-time        NaN  Apples   \n",
       "\n",
       "                                    CodingActivities  \\\n",
       "0                                              Hobby   \n",
       "1  Hobby;Contribute to open-source projects;Other...   \n",
       "2  Hobby;Contribute to open-source projects;Other...   \n",
       "3                                                NaN   \n",
       "4                                                NaN   \n",
       "\n",
       "                                             EdLevel  \\\n",
       "0                          Primary/elementary school   \n",
       "1       Bachelor’s degree (B.A., B.S., B.Eng., etc.)   \n",
       "2    Master’s degree (M.A., M.S., M.Eng., MBA, etc.)   \n",
       "3  Some college/university study without earning ...   \n",
       "4  Secondary school (e.g. American high school, G...   \n",
       "\n",
       "                                           LearnCode  \\\n",
       "0                             Books / Physical media   \n",
       "1  Books / Physical media;Colleague;On the job tr...   \n",
       "2  Books / Physical media;Colleague;On the job tr...   \n",
       "3  Other online resources (e.g., videos, blogs, f...   \n",
       "4  Other online resources (e.g., videos, blogs, f...   \n",
       "\n",
       "                                     LearnCodeOnline  ... JobSatPoints_6  \\\n",
       "0                                                NaN  ...            NaN   \n",
       "1  Technical documentation;Blogs;Books;Written Tu...  ...            0.0   \n",
       "2  Technical documentation;Blogs;Books;Written Tu...  ...            NaN   \n",
       "3  Stack Overflow;How-to videos;Interactive tutorial  ...            NaN   \n",
       "4  Technical documentation;Blogs;Written Tutorial...  ...            NaN   \n",
       "\n",
       "  JobSatPoints_7 JobSatPoints_8 JobSatPoints_9 JobSatPoints_10  \\\n",
       "0            NaN            NaN            NaN             NaN   \n",
       "1            0.0            0.0            0.0             0.0   \n",
       "2            NaN            NaN            NaN             NaN   \n",
       "3            NaN            NaN            NaN             NaN   \n",
       "4            NaN            NaN            NaN             NaN   \n",
       "\n",
       "  JobSatPoints_11           SurveyLength SurveyEase ConvertedCompYearly JobSat  \n",
       "0             NaN                    NaN        NaN                 NaN    NaN  \n",
       "1             0.0                    NaN        NaN                 NaN    NaN  \n",
       "2             NaN  Appropriate in length       Easy                 NaN    NaN  \n",
       "3             NaN               Too long       Easy                 NaN    NaN  \n",
       "4             NaN              Too short       Easy                 NaN    NaN  \n",
       "\n",
       "[5 rows x 114 columns]"
      ]
     },
     "execution_count": 3,
     "metadata": {},
     "output_type": "execute_result"
    }
   ],
   "source": [
    "# Define the URL of the dataset\n",
    "df = pd.read_csv(\"https://cf-courses-data.s3.us.cloud-object-storage.appdomain.cloud/VYPrOu0Vs3I0hKLLjiPGrA/survey-data-with-duplicate.csv\")\n",
    "# Display the first few rows to ensure it loaded correctly\n",
    "df.head()"
   ]
  },
  {
   "cell_type": "code",
   "execution_count": 14,
   "id": "5aaf37bf-d604-4270-9d8f-f55ebf102e3a",
   "metadata": {},
   "outputs": [
    {
     "data": {
      "text/plain": [
       "(65437, 114)"
      ]
     },
     "execution_count": 14,
     "metadata": {},
     "output_type": "execute_result"
    }
   ],
   "source": [
    "df.shape"
   ]
  },
  {
   "cell_type": "markdown",
   "id": "dda4046c-081d-4e57-bf4f-fb79075e8951",
   "metadata": {},
   "source": [
    "# Section 1: Handling Duplicates\n",
    "Task 1: Identify and remove duplicate rows."
   ]
  },
  {
   "cell_type": "code",
   "execution_count": 4,
   "id": "23e40685-937a-45fc-95cf-d7706160541c",
   "metadata": {},
   "outputs": [
    {
     "data": {
      "text/plain": [
       "np.int64(20)"
      ]
     },
     "execution_count": 4,
     "metadata": {},
     "output_type": "execute_result"
    }
   ],
   "source": [
    "df.duplicated().sum()"
   ]
  },
  {
   "cell_type": "code",
   "execution_count": 5,
   "id": "4d1bbd5c-732d-4dc8-a746-d47b88739ecf",
   "metadata": {},
   "outputs": [],
   "source": [
    "df=df.drop_duplicates()"
   ]
  },
  {
   "cell_type": "code",
   "execution_count": 6,
   "id": "a347dd24-42b3-44b4-9f4a-0d0899b2f6f4",
   "metadata": {},
   "outputs": [
    {
     "data": {
      "text/plain": [
       "np.int64(0)"
      ]
     },
     "execution_count": 6,
     "metadata": {},
     "output_type": "execute_result"
    }
   ],
   "source": [
    "df.duplicated().sum()"
   ]
  },
  {
   "cell_type": "markdown",
   "id": "d1f55185-8ec0-4efe-975e-54a5de7b404b",
   "metadata": {},
   "source": [
    "# Section 2: Handling Missing Values\n",
    "Task 2: Identify missing values in CodingActivities.\n",
    "Task 3: Impute missing values in CodingActivities with forward-fill."
   ]
  },
  {
   "cell_type": "code",
   "execution_count": 7,
   "id": "287c60d1-d8f2-4172-b673-cac5d00dc83b",
   "metadata": {},
   "outputs": [
    {
     "data": {
      "text/plain": [
       "np.int64(10971)"
      ]
     },
     "execution_count": 7,
     "metadata": {},
     "output_type": "execute_result"
    }
   ],
   "source": [
    "df[\"CodingActivities\"].isnull().sum()"
   ]
  },
  {
   "cell_type": "code",
   "execution_count": 9,
   "id": "983d7347-777c-4e7e-a0f6-c907038a3e4e",
   "metadata": {},
   "outputs": [],
   "source": [
    "df['CodingActivities'] = df['CodingActivities'].ffill()"
   ]
  },
  {
   "cell_type": "markdown",
   "id": "9b465def-6acb-4197-ad2b-d8a9fc7f429b",
   "metadata": {},
   "source": [
    "# Section 3: Normalizing Compensation Data¶\n",
    "Task 4: Identify compensation-related columns, such as ConvertedCompYearly.\n",
    "Normalization is commonly applied to compensation data to bring values within a comparable range. Here, you’ll identify ConvertedCompYearly or similar columns, which contain compensation information. This column will be used in the subsequent tasks for normalization."
   ]
  },
  {
   "cell_type": "code",
   "execution_count": 11,
   "id": "e876375a-ae02-4663-a714-2f5573b31412",
   "metadata": {},
   "outputs": [
    {
     "name": "stdout",
     "output_type": "stream",
     "text": [
      "CompTotal\n",
      "AIComplex\n",
      "ConvertedCompYearly\n"
     ]
    }
   ],
   "source": [
    "for i in df.columns:\n",
    "    if \"comp\" in i.lower():\n",
    "        print(i)"
   ]
  },
  {
   "cell_type": "markdown",
   "id": "689a9990-2b41-4ee2-a25e-0bf42dcdc3ca",
   "metadata": {},
   "source": [
    "Task 5: Normalize ConvertedCompYearly using Min-Max Scaling.\n",
    "Min-Max Scaling brings all values in a column to a 0-1 range, making it useful for comparing data across different scales. Here, you will apply Min-Max normalization to the ConvertedCompYearly column, creating a new column ConvertedCompYearly_MinMax with normalized values."
   ]
  },
  {
   "cell_type": "code",
   "execution_count": 13,
   "id": "ac3b86e4-0518-4eac-b940-95e39a17b62f",
   "metadata": {},
   "outputs": [
    {
     "data": {
      "text/plain": [
       "np.int64(42002)"
      ]
     },
     "execution_count": 13,
     "metadata": {},
     "output_type": "execute_result"
    }
   ],
   "source": [
    "df[\"ConvertedCompYearly\"].isnull().sum()"
   ]
  },
  {
   "cell_type": "code",
   "execution_count": 18,
   "id": "27115acf-4629-4217-a3d0-a19f546e1342",
   "metadata": {},
   "outputs": [],
   "source": [
    "df = df.dropna(subset=[\"ConvertedCompYearly\"])"
   ]
  },
  {
   "cell_type": "markdown",
   "id": "a872cb3a-bb41-49ef-9b9f-a13ae8c61d51",
   "metadata": {},
   "source": [
    "# MIN MAX"
   ]
  },
  {
   "cell_type": "code",
   "execution_count": 24,
   "id": "35b80302-e157-4163-92c7-6ba5c7d9bfeb",
   "metadata": {},
   "outputs": [],
   "source": [
    "min_val = df['ConvertedCompYearly'].min()\n",
    "max_val = df['ConvertedCompYearly'].max()\n",
    "\n",
    "# Normalize işlemi\n",
    "df.loc[:, \"normalized_comp\"] = (df['ConvertedCompYearly'] - min_val) / (max_val - min_val)\n"
   ]
  },
  {
   "cell_type": "code",
   "execution_count": 22,
   "id": "e7333172-5009-4e96-8fc5-77573ffb9970",
   "metadata": {},
   "outputs": [
    {
     "data": {
      "text/html": [
       "<div>\n",
       "<style scoped>\n",
       "    .dataframe tbody tr th:only-of-type {\n",
       "        vertical-align: middle;\n",
       "    }\n",
       "\n",
       "    .dataframe tbody tr th {\n",
       "        vertical-align: top;\n",
       "    }\n",
       "\n",
       "    .dataframe thead th {\n",
       "        text-align: right;\n",
       "    }\n",
       "</style>\n",
       "<table border=\"1\" class=\"dataframe\">\n",
       "  <thead>\n",
       "    <tr style=\"text-align: right;\">\n",
       "      <th></th>\n",
       "      <th>ResponseId</th>\n",
       "      <th>MainBranch</th>\n",
       "      <th>Age</th>\n",
       "      <th>Employment</th>\n",
       "      <th>RemoteWork</th>\n",
       "      <th>Check</th>\n",
       "      <th>CodingActivities</th>\n",
       "      <th>EdLevel</th>\n",
       "      <th>LearnCode</th>\n",
       "      <th>LearnCodeOnline</th>\n",
       "      <th>...</th>\n",
       "      <th>JobSatPoints_7</th>\n",
       "      <th>JobSatPoints_8</th>\n",
       "      <th>JobSatPoints_9</th>\n",
       "      <th>JobSatPoints_10</th>\n",
       "      <th>JobSatPoints_11</th>\n",
       "      <th>SurveyLength</th>\n",
       "      <th>SurveyEase</th>\n",
       "      <th>ConvertedCompYearly</th>\n",
       "      <th>JobSat</th>\n",
       "      <th>normalized_comp</th>\n",
       "    </tr>\n",
       "  </thead>\n",
       "  <tbody>\n",
       "    <tr>\n",
       "      <th>72</th>\n",
       "      <td>73</td>\n",
       "      <td>I am a developer by profession</td>\n",
       "      <td>18-24 years old</td>\n",
       "      <td>Employed, full-time;Student, full-time;Indepen...</td>\n",
       "      <td>Hybrid (some remote, some in-person)</td>\n",
       "      <td>Apples</td>\n",
       "      <td>Hobby;School or academic work;Professional dev...</td>\n",
       "      <td>Secondary school (e.g. American high school, G...</td>\n",
       "      <td>On the job training;Other online resources (e....</td>\n",
       "      <td>Technical documentation;Blogs;Written Tutorial...</td>\n",
       "      <td>...</td>\n",
       "      <td>100.0</td>\n",
       "      <td>100.0</td>\n",
       "      <td>100.0</td>\n",
       "      <td>50.0</td>\n",
       "      <td>90.0</td>\n",
       "      <td>Too long</td>\n",
       "      <td>Easy</td>\n",
       "      <td>7322.0</td>\n",
       "      <td>10.0</td>\n",
       "      <td>0.00045</td>\n",
       "    </tr>\n",
       "    <tr>\n",
       "      <th>374</th>\n",
       "      <td>375</td>\n",
       "      <td>I am not primarily a developer, but I write co...</td>\n",
       "      <td>25-34 years old</td>\n",
       "      <td>Employed, full-time</td>\n",
       "      <td>Hybrid (some remote, some in-person)</td>\n",
       "      <td>Apples</td>\n",
       "      <td>Hobby;School or academic work;Professional dev...</td>\n",
       "      <td>Professional degree (JD, MD, Ph.D, Ed.D, etc.)</td>\n",
       "      <td>Books / Physical media;Colleague;On the job tr...</td>\n",
       "      <td>Written Tutorials;Stack Overflow;Written-based...</td>\n",
       "      <td>...</td>\n",
       "      <td>NaN</td>\n",
       "      <td>NaN</td>\n",
       "      <td>NaN</td>\n",
       "      <td>NaN</td>\n",
       "      <td>NaN</td>\n",
       "      <td>Appropriate in length</td>\n",
       "      <td>Neither easy nor difficult</td>\n",
       "      <td>30074.0</td>\n",
       "      <td>NaN</td>\n",
       "      <td>0.00185</td>\n",
       "    </tr>\n",
       "  </tbody>\n",
       "</table>\n",
       "<p>2 rows × 115 columns</p>\n",
       "</div>"
      ],
      "text/plain": [
       "     ResponseId                                         MainBranch  \\\n",
       "72           73                     I am a developer by profession   \n",
       "374         375  I am not primarily a developer, but I write co...   \n",
       "\n",
       "                 Age                                         Employment  \\\n",
       "72   18-24 years old  Employed, full-time;Student, full-time;Indepen...   \n",
       "374  25-34 years old                                Employed, full-time   \n",
       "\n",
       "                               RemoteWork   Check  \\\n",
       "72   Hybrid (some remote, some in-person)  Apples   \n",
       "374  Hybrid (some remote, some in-person)  Apples   \n",
       "\n",
       "                                      CodingActivities  \\\n",
       "72   Hobby;School or academic work;Professional dev...   \n",
       "374  Hobby;School or academic work;Professional dev...   \n",
       "\n",
       "                                               EdLevel  \\\n",
       "72   Secondary school (e.g. American high school, G...   \n",
       "374     Professional degree (JD, MD, Ph.D, Ed.D, etc.)   \n",
       "\n",
       "                                             LearnCode  \\\n",
       "72   On the job training;Other online resources (e....   \n",
       "374  Books / Physical media;Colleague;On the job tr...   \n",
       "\n",
       "                                       LearnCodeOnline  ... JobSatPoints_7  \\\n",
       "72   Technical documentation;Blogs;Written Tutorial...  ...          100.0   \n",
       "374  Written Tutorials;Stack Overflow;Written-based...  ...            NaN   \n",
       "\n",
       "    JobSatPoints_8 JobSatPoints_9 JobSatPoints_10 JobSatPoints_11  \\\n",
       "72           100.0          100.0            50.0            90.0   \n",
       "374            NaN            NaN             NaN             NaN   \n",
       "\n",
       "              SurveyLength                  SurveyEase ConvertedCompYearly  \\\n",
       "72                Too long                        Easy              7322.0   \n",
       "374  Appropriate in length  Neither easy nor difficult             30074.0   \n",
       "\n",
       "    JobSat normalized_comp  \n",
       "72    10.0         0.00045  \n",
       "374    NaN         0.00185  \n",
       "\n",
       "[2 rows x 115 columns]"
      ]
     },
     "execution_count": 22,
     "metadata": {},
     "output_type": "execute_result"
    }
   ],
   "source": []
  },
  {
   "cell_type": "markdown",
   "id": "62b22aa5-1db3-496a-9e33-8a59058631a2",
   "metadata": {},
   "source": [
    "# Z SCORE"
   ]
  },
  {
   "cell_type": "code",
   "execution_count": 26,
   "id": "1fb2a8db-f1f9-4b80-9448-3532b313a17e",
   "metadata": {},
   "outputs": [],
   "source": [
    "df.loc[:,\"ConvertedCompYearly_Zscore\"]=(df['ConvertedCompYearly'] - df['ConvertedCompYearly'].mean()) /df['ConvertedCompYearly'].std()"
   ]
  },
  {
   "cell_type": "code",
   "execution_count": 27,
   "id": "f7094232-358c-4e66-b363-ad4316d16ff4",
   "metadata": {},
   "outputs": [
    {
     "data": {
      "text/html": [
       "<div>\n",
       "<style scoped>\n",
       "    .dataframe tbody tr th:only-of-type {\n",
       "        vertical-align: middle;\n",
       "    }\n",
       "\n",
       "    .dataframe tbody tr th {\n",
       "        vertical-align: top;\n",
       "    }\n",
       "\n",
       "    .dataframe thead th {\n",
       "        text-align: right;\n",
       "    }\n",
       "</style>\n",
       "<table border=\"1\" class=\"dataframe\">\n",
       "  <thead>\n",
       "    <tr style=\"text-align: right;\">\n",
       "      <th></th>\n",
       "      <th>ResponseId</th>\n",
       "      <th>MainBranch</th>\n",
       "      <th>Age</th>\n",
       "      <th>Employment</th>\n",
       "      <th>RemoteWork</th>\n",
       "      <th>Check</th>\n",
       "      <th>CodingActivities</th>\n",
       "      <th>EdLevel</th>\n",
       "      <th>LearnCode</th>\n",
       "      <th>LearnCodeOnline</th>\n",
       "      <th>...</th>\n",
       "      <th>JobSatPoints_9</th>\n",
       "      <th>JobSatPoints_10</th>\n",
       "      <th>JobSatPoints_11</th>\n",
       "      <th>SurveyLength</th>\n",
       "      <th>SurveyEase</th>\n",
       "      <th>ConvertedCompYearly</th>\n",
       "      <th>JobSat</th>\n",
       "      <th>normalized_comp</th>\n",
       "      <th>ConvertedCompYearly_MinMax</th>\n",
       "      <th>ConvertedCompYearly_Zscore</th>\n",
       "    </tr>\n",
       "  </thead>\n",
       "  <tbody>\n",
       "    <tr>\n",
       "      <th>72</th>\n",
       "      <td>73</td>\n",
       "      <td>I am a developer by profession</td>\n",
       "      <td>18-24 years old</td>\n",
       "      <td>Employed, full-time;Student, full-time;Indepen...</td>\n",
       "      <td>Hybrid (some remote, some in-person)</td>\n",
       "      <td>Apples</td>\n",
       "      <td>Hobby;School or academic work;Professional dev...</td>\n",
       "      <td>Secondary school (e.g. American high school, G...</td>\n",
       "      <td>On the job training;Other online resources (e....</td>\n",
       "      <td>Technical documentation;Blogs;Written Tutorial...</td>\n",
       "      <td>...</td>\n",
       "      <td>100.0</td>\n",
       "      <td>50.0</td>\n",
       "      <td>90.0</td>\n",
       "      <td>Too long</td>\n",
       "      <td>Easy</td>\n",
       "      <td>7322.0</td>\n",
       "      <td>10.0</td>\n",
       "      <td>0.00045</td>\n",
       "      <td>0.00045</td>\n",
       "      <td>-0.422117</td>\n",
       "    </tr>\n",
       "    <tr>\n",
       "      <th>374</th>\n",
       "      <td>375</td>\n",
       "      <td>I am not primarily a developer, but I write co...</td>\n",
       "      <td>25-34 years old</td>\n",
       "      <td>Employed, full-time</td>\n",
       "      <td>Hybrid (some remote, some in-person)</td>\n",
       "      <td>Apples</td>\n",
       "      <td>Hobby;School or academic work;Professional dev...</td>\n",
       "      <td>Professional degree (JD, MD, Ph.D, Ed.D, etc.)</td>\n",
       "      <td>Books / Physical media;Colleague;On the job tr...</td>\n",
       "      <td>Written Tutorials;Stack Overflow;Written-based...</td>\n",
       "      <td>...</td>\n",
       "      <td>NaN</td>\n",
       "      <td>NaN</td>\n",
       "      <td>NaN</td>\n",
       "      <td>Appropriate in length</td>\n",
       "      <td>Neither easy nor difficult</td>\n",
       "      <td>30074.0</td>\n",
       "      <td>NaN</td>\n",
       "      <td>0.00185</td>\n",
       "      <td>0.00185</td>\n",
       "      <td>-0.300290</td>\n",
       "    </tr>\n",
       "  </tbody>\n",
       "</table>\n",
       "<p>2 rows × 117 columns</p>\n",
       "</div>"
      ],
      "text/plain": [
       "     ResponseId                                         MainBranch  \\\n",
       "72           73                     I am a developer by profession   \n",
       "374         375  I am not primarily a developer, but I write co...   \n",
       "\n",
       "                 Age                                         Employment  \\\n",
       "72   18-24 years old  Employed, full-time;Student, full-time;Indepen...   \n",
       "374  25-34 years old                                Employed, full-time   \n",
       "\n",
       "                               RemoteWork   Check  \\\n",
       "72   Hybrid (some remote, some in-person)  Apples   \n",
       "374  Hybrid (some remote, some in-person)  Apples   \n",
       "\n",
       "                                      CodingActivities  \\\n",
       "72   Hobby;School or academic work;Professional dev...   \n",
       "374  Hobby;School or academic work;Professional dev...   \n",
       "\n",
       "                                               EdLevel  \\\n",
       "72   Secondary school (e.g. American high school, G...   \n",
       "374     Professional degree (JD, MD, Ph.D, Ed.D, etc.)   \n",
       "\n",
       "                                             LearnCode  \\\n",
       "72   On the job training;Other online resources (e....   \n",
       "374  Books / Physical media;Colleague;On the job tr...   \n",
       "\n",
       "                                       LearnCodeOnline  ... JobSatPoints_9  \\\n",
       "72   Technical documentation;Blogs;Written Tutorial...  ...          100.0   \n",
       "374  Written Tutorials;Stack Overflow;Written-based...  ...            NaN   \n",
       "\n",
       "    JobSatPoints_10 JobSatPoints_11           SurveyLength  \\\n",
       "72             50.0            90.0               Too long   \n",
       "374             NaN             NaN  Appropriate in length   \n",
       "\n",
       "                     SurveyEase ConvertedCompYearly JobSat normalized_comp  \\\n",
       "72                         Easy              7322.0   10.0         0.00045   \n",
       "374  Neither easy nor difficult             30074.0    NaN         0.00185   \n",
       "\n",
       "    ConvertedCompYearly_MinMax ConvertedCompYearly_Zscore  \n",
       "72                     0.00045                  -0.422117  \n",
       "374                    0.00185                  -0.300290  \n",
       "\n",
       "[2 rows x 117 columns]"
      ]
     },
     "execution_count": 27,
     "metadata": {},
     "output_type": "execute_result"
    }
   ],
   "source": [
    "df.head(2)"
   ]
  },
  {
   "cell_type": "markdown",
   "id": "5bd74dc8-f0de-4acc-adbd-3ab883842a30",
   "metadata": {},
   "source": [
    "# VISUALIZATION"
   ]
  },
  {
   "cell_type": "code",
   "execution_count": 28,
   "id": "b754da13-0a1e-4da0-bda6-0cbbe55558ca",
   "metadata": {},
   "outputs": [
    {
     "data": {
      "image/png": "[encoded data removed]",
      "text/plain": [
       "<Figure size 1500x500 with 3 Axes>"
      ]
     },
     "metadata": {},
     "output_type": "display_data"
    }
   ],
   "source": [
    "fig, axes = plt.subplots(1, 3, figsize=(15, 5))\n",
    "\n",
    "# Original data histogram\n",
    "axes[0].hist(df['ConvertedCompYearly'].dropna(), bins=30, color='blue', alpha=0.7)\n",
    "axes[0].set_title('Original: ConvertedCompYearly')\n",
    "axes[0].set_xlabel('ConvertedCompYearly')\n",
    "axes[0].set_ylabel('Frequency')\n",
    "\n",
    "# Min-Max Normalized data histogram\n",
    "axes[1].hist(df['normalized_comp'].dropna(), bins=30, color='green', alpha=0.7)\n",
    "axes[1].set_title('Min-Max Normalized: normalized_comp')\n",
    "axes[1].set_xlabel('ConvertedCompYearly_MinMax')\n",
    "axes[1].set_ylabel('Frequency')\n",
    "\n",
    "# Z-score Normalized data histogram\n",
    "axes[2].hist(df['ConvertedCompYearly_Zscore'].dropna(), bins=30, color='red', alpha=0.7)\n",
    "axes[2].set_title('Z-Score Normalized: ConvertedCompYearly_Zscore')\n",
    "axes[2].set_xlabel('ConvertedCompYearly_Zscore')\n",
    "axes[2].set_ylabel('Frequency')\n",
    "\n",
    "# Adjust layout and show the plot\n",
    "plt.tight_layout()\n",
    "plt.show()"
   ]
  },
  {
   "cell_type": "code",
   "execution_count": null,
   "id": "da6f4818-2546-4ca5-840e-1120569e34da",
   "metadata": {},
   "outputs": [],
   "source": []
  }
 ],
 "metadata": {
  "kernelspec": {
   "display_name": "Python 3 (ipykernel)",
   "language": "python",
   "name": "python3"
  },
  "language_info": {
   "codemirror_mode": {
    "name": "ipython",
    "version": 3
   },
   "file_extension": ".py",
   "mimetype": "text/x-python",
   "name": "python",
   "nbconvert_exporter": "python",
   "pygments_lexer": "ipython3",
   "version": "3.12.4"
  }
 },
 "nbformat": 4,
 "nbformat_minor": 5
}
